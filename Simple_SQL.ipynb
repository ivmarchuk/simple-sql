{
  "nbformat": 4,
  "nbformat_minor": 0,
  "metadata": {
    "colab": {
      "provenance": [],
      "authorship_tag": "ABX9TyNxSKzaAxcwIrKL4k6U4vzQ",
      "include_colab_link": true
    },
    "kernelspec": {
      "name": "python3",
      "display_name": "Python 3"
    },
    "language_info": {
      "name": "python"
    }
  },
  "cells": [
    {
      "cell_type": "markdown",
      "metadata": {
        "id": "view-in-github",
        "colab_type": "text"
      },
      "source": [
        "<a href=\"https://colab.research.google.com/github/ivmarchuk/simple-sql/blob/main/Simple_SQL.ipynb\" target=\"_parent\"><img src=\"https://colab.research.google.com/assets/colab-badge.svg\" alt=\"Open In Colab\"/></a>"
      ]
    },
    {
      "cell_type": "code",
      "execution_count": null,
      "metadata": {
        "id": "dOkdf0ywUZZP"
      },
      "outputs": [],
      "source": [
        "sql_query = \"\"\"\n",
        "               CREATE TABLE IF NOT EXISTS FlightLeg\n",
        "               (id INTEGER PRIMARY KEY AUTOINCREMENT, \n",
        "               tailNumber INTEGER,\n",
        "               source_airport_code INTEGER,\n",
        "               source_country_code INTEGER,\n",
        "               destination_airport_code INTEGER,\n",
        "               destination_country_code INTEGER,\n",
        "               departure_time VARCHAR(255),\n",
        "               landing_time VARCHAR(255))\n",
        "    \"\"\"\n",
        "\n",
        "cursor.execute(sql_query)\n",
        "print(\"Opened database successfully\")"
      ]
    },
    {
      "cell_type": "code",
      "source": [
        "try:\n",
        "  df.to_sql(\"FlightLeg\", conn, index=False, if_exists='append')\n",
        "except:\n",
        "  print(\"Something went wrong\")\n",
        "  "
      ],
      "metadata": {
        "id": "KBPf2C5vU5FI"
      },
      "execution_count": null,
      "outputs": []
    },
    {
      "cell_type": "code",
      "source": [
        "sql_query = '''SELECT * FROM FlightLeg LIMIT 30;'''\n",
        "cursor.execute(sql_query)\n",
        "records = cursor.fetchall()\n",
        "print(\"Total rows are:  \", len(records))\n",
        "print(\"Printing each row\")\n",
        "for record in records:\n",
        "  print(record)"
      ],
      "metadata": {
        "id": "X9tK5KXDU5H4"
      },
      "execution_count": null,
      "outputs": []
    },
    {
      "cell_type": "code",
      "source": [
        "# SHOW DOMESTIC AND INTERNATIONAL / FLIGHT DURATION\n",
        "sql_alter = '''create table flightlegs_working \n",
        "            as select \n",
        "\t  ROW_NUMBER () OVER (ORDER BY tailnumber) as id,\n",
        "    tailnumber,\n",
        "    source_airport_code, \n",
        "    source_country_code, \n",
        "    destination_airport_code, \n",
        "    destination_country_code,\n",
        "    departure_time,\n",
        "    landing_time,\n",
        "    ROUND((JULIANDAY(landing_time) - JULIANDAY(departure_time)) * 24 * 60, 0) as flight_duration,\n",
        "    case when source_country_code = destination_country_code then 'D' else 'I' end as flight_type\n",
        "\tfrom flightlegs;''' \n",
        "\n",
        "\n",
        "cursor.execute(sql_alter)\n",
        "records = cursor.fetchall()\n",
        "\n",
        "print(\"Total rows are:  \", len(records))\n",
        "print(\"Printing each row\")\n",
        "for record in records:\n",
        "  print(record)"
      ],
      "metadata": {
        "id": "PRi-32gbU5KG"
      },
      "execution_count": null,
      "outputs": []
    },
    {
      "cell_type": "code",
      "source": [
        "# WHICH AIRCRAFT HAD THE MOST FLIGHTS\n",
        "sql_which_aircraft_has_the_most_flights = ''' \n",
        "WITH flight_count AS (\n",
        "        SELECT tailnumber, COUNT(tailnumber) AS flights\n",
        "        FROM FlightLeg\n",
        "        GROUP BY tailnumber)\n",
        "  \n",
        "SELECT tailnumber, flights\n",
        "FROM flight_count\n",
        "WHERE flights IN (SELECT MAX(flights) FROM flight_count); \n",
        "'''\n",
        "\n",
        "cursor.execute(sql_which_aircraft_has_the_most_flights)\n",
        "records = cursor.fetchall()\n",
        "\n",
        "print(\"Printing query results: \")\n",
        "for record in records:\n",
        "  print(record)"
      ],
      "metadata": {
        "id": "oQDOXpYmU5MQ"
      },
      "execution_count": null,
      "outputs": []
    },
    {
      "cell_type": "code",
      "source": [
        "# WHICH AIRCRAFT HAS FLOWN LONGER THAN ANYONE #ELSE\n",
        "sql_which_aircraft_has_flown_longer = ''' \n",
        "WITH summed_flights AS (\n",
        "  SELECT tailnumber, SUM(flight_duration) AS total_flights_duration \n",
        "  FROM FlightLeg \n",
        "  GROUP BY tailnumber)\n",
        "\n",
        "SELECT tailnumber, MAX(total_flights_duration) AS total\n",
        "FROM summed_flights;\n",
        "'''                           \n",
        "\n",
        "cursor.execute(sql_which_aircraft_has_flown_longer)\n",
        "records = cursor.fetchall()\n",
        "\n",
        "print(\"Printing query results: \")\n",
        "for record in records:\n",
        "  print(record)             "
      ],
      "metadata": {
        "id": "LkjzBApwU5OV"
      },
      "execution_count": null,
      "outputs": []
    },
    {
      "cell_type": "code",
      "source": [
        "# Longest and shortest domestic/international flight with its duration\n",
        "sql_longest_shortest_I_D = '''\n",
        "with max_d as (\n",
        "    select flight_type, max(flight_duration) as duration from flightlegs_working group by 1),\n",
        "min_d as (\n",
        "    select flight_type, min(flight_duration) as duration from flightlegs_working group by 1)\n",
        "    \n",
        "SELECT tailnumber, flight_duration, flight_type\n",
        "FROM flightlegs_working\n",
        "WHERE flight_duration IN (SELECT duration FROM max_d) \n",
        "\t\t\t\t\tOR flight_duration IN (select duration from min_d)\n",
        "ORDER BY 3,2 DESC;  ;\n",
        "'''\n",
        "\n",
        "cursor.execute(sql_longest_shortest_I_D)\n",
        "records = cursor.fetchall()\n",
        "\n",
        "print(\"Printing query results: \")\n",
        "for record in records:\n",
        "  print(record) "
      ],
      "metadata": {
        "id": "kgSQodg_U5Qe"
      },
      "execution_count": null,
      "outputs": []
    },
    {
      "cell_type": "code",
      "source": [
        "# The interval between which flights of the same aircraft was the shortest and how many minutes did it last? (FOR A6-EVF IN THAT CASE)\n",
        "\n",
        "sql_shortesrt_flight_interval_for_aircraft = \"\"\"\n",
        "with base_t as (\n",
        "    select tailnumber, departure_time, landing_time, flight_duration from flightleg_working order by 1,2 desc),\n",
        "    calc as (\n",
        "    select base_t.*, \n",
        "        lag(landing_time) over (partition by tailnumber order by departure_time asc) as landing_time_prev_flight,\n",
        "        date_diff('minute', landing_time_prev_flight, departure_time) as time_between_flights\n",
        "        from base_t\n",
        "    ),\n",
        "    min_time as \n",
        "        (select Min(time_between_flights) as min_time \n",
        "\t\tfrom calc \n",
        "        where time_betweeN_flights > 0)\n",
        "        \n",
        "select * \n",
        "from calc c \n",
        "inner join min_time t \n",
        "where c.time_betweeN_flights = t.min_time\n",
        "\"\"\"\n",
        "\n",
        "cursor.execute(sql_shortesrt_flight_interval_for_aircraft)\n",
        "records = cursor.fetchall()\n",
        "\n",
        "print(\"Printing query results: \")\n",
        "for record in records:\n",
        "  print(record) "
      ],
      "metadata": {
        "id": "VB4sFtQFU5Sm"
      },
      "execution_count": null,
      "outputs": []
    }
  ]
}